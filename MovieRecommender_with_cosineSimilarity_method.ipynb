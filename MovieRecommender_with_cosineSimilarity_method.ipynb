{
  "nbformat": 4,
  "nbformat_minor": 0,
  "metadata": {
    "colab": {
      "name": "MovieRecommender_with_cosineSimilarity_method.ipynb",
      "provenance": [],
      "authorship_tag": "ABX9TyMB4wAIZdvZTG2GAu74Q2mE",
      "include_colab_link": true
    },
    "kernelspec": {
      "name": "python3",
      "display_name": "Python 3"
    }
  },
  "cells": [
    {
      "cell_type": "markdown",
      "metadata": {
        "id": "view-in-github",
        "colab_type": "text"
      },
      "source": [
        "<a href=\"https://colab.research.google.com/github/kanekiken1234/Movie-Recommender-using-Cosine-Similarity/blob/master/MovieRecommender_with_cosineSimilarity_method.ipynb\" target=\"_parent\"><img src=\"https://colab.research.google.com/assets/colab-badge.svg\" alt=\"Open In Colab\"/></a>"
      ]
    },
    {
      "cell_type": "code",
      "metadata": {
        "id": "kxZNRznmfI9g",
        "colab_type": "code",
        "colab": {
          "base_uri": "https://localhost:8080/",
          "height": 945
        },
        "outputId": "48d3568c-f6fa-422e-9f28-e1838225f204"
      },
      "source": [
        "import pandas as pd\n",
        "import numpy as np\n",
        "from sklearn.feature_extraction.text import CountVectorizer\n",
        "from sklearn.metrics.pairwise import cosine_similarity\n",
        "\n",
        "def get_title_from_index(index):\n",
        "\treturn df[df.index == index][\"title\"].values[0]\n",
        "\n",
        "def get_index_from_title(title):\n",
        "\treturn df[df.title == title][\"index\"].values[0]\n",
        "\n",
        "\n",
        "df = pd.read_csv(\"movie_dataset.csv\")\n",
        "\n",
        "\n",
        "features = ['keywords','cast','genres','director']\n",
        "\n",
        "for feature in features:\n",
        "\tdf[feature] = df[feature].fillna('')\n",
        "\n",
        "def combine_features(row):\n",
        "\ttry:\n",
        "\t\treturn row['keywords'] +\" \"+row['cast']+\" \"+row[\"genres\"]+\" \"+row[\"director\"]\n",
        "\texcept:\n",
        "\t\tprint (\"Error:\", row)\t\n",
        "\n",
        "df[\"combined_features\"] = df.apply(combine_features,axis=1)\n",
        "\n",
        "\n",
        "cv = CountVectorizer()\n",
        "\n",
        "count_matrix = cv.fit_transform(df[\"combined_features\"])\n",
        "\n",
        "cosine_sim = cosine_similarity(count_matrix) \n",
        "movie_user_likes = \"Avatar\"\n",
        "\n",
        "movie_index = get_index_from_title(movie_user_likes)\n",
        "\n",
        "similar_movies =  list(enumerate(cosine_sim[movie_index]))\n",
        "\n",
        "\n",
        "sorted_similar_movies = sorted(similar_movies,key=lambda x:x[1],reverse=True)\n",
        "\n",
        "i=0\n",
        "for element in sorted_similar_movies:\n",
        "\t\tprint(get_title_from_index(element[0]))\n",
        "\t\ti = i +1\n",
        "\t\tif i>50:\n",
        "\t\t\tbreak"
      ],
      "execution_count": 11,
      "outputs": [
        {
          "output_type": "stream",
          "text": [
            "Avatar\n",
            "Guardians of the Galaxy\n",
            "Aliens\n",
            "Star Wars: Clone Wars: Volume 1\n",
            "Star Trek Into Darkness\n",
            "Star Trek Beyond\n",
            "Alien\n",
            "Lockout\n",
            "Jason X\n",
            "The Helix... Loaded\n",
            "Moonraker\n",
            "Planet of the Apes\n",
            "Galaxy Quest\n",
            "Gravity\n",
            "Alien³\n",
            "Jupiter Ascending\n",
            "The Wolverine\n",
            "Silent Running\n",
            "Zathura: A Space Adventure\n",
            "Trekkies\n",
            "Cargo\n",
            "Wing Commander\n",
            "Star Trek\n",
            "Lost in Space\n",
            "Babylon A.D.\n",
            "The Fifth Element\n",
            "Oblivion\n",
            "Titan A.E.\n",
            "AVP: Alien vs. Predator\n",
            "The Empire Strikes Back\n",
            "Dragonball Evolution\n",
            "Superman Returns\n",
            "Divergent\n",
            "John Carter\n",
            "The Black Hole\n",
            "The Ice Pirates\n",
            "Memoirs of an Invisible Man\n",
            "Starship Troopers\n",
            "The Astronaut's Wife\n",
            "Machete Kills\n",
            "Soldier\n",
            "The Abyss\n",
            "Damnation Alley\n",
            "Men in Black\n",
            "Space Cowboys\n",
            "Space Dogs\n",
            "The Time Machine\n",
            "Sheena\n",
            "Captain America: Civil War\n",
            "Star Trek: Insurrection\n",
            "Oz: The Great and Powerful\n"
          ],
          "name": "stdout"
        }
      ]
    },
    {
      "cell_type": "code",
      "metadata": {
        "id": "sg_Qbn_LgtQD",
        "colab_type": "code",
        "colab": {}
      },
      "source": [
        ""
      ],
      "execution_count": null,
      "outputs": []
    }
  ]
}